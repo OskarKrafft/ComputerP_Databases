{
 "cells": [
  {
   "cell_type": "markdown",
   "id": "e1c2fe65-601e-4153-85d7-a584999afd36",
   "metadata": {},
   "source": [
    "# Assignment no. 1 (in 3 parts)"
   ]
  },
  {
   "cell_type": "markdown",
   "id": "b418dec2-a600-4039-902a-63ff68fc2bd0",
   "metadata": {},
   "source": [
    "## Part 1: One of a Kind."
   ]
  },
  {
   "cell_type": "markdown",
   "id": "68c597f9-feeb-479e-9ba3-775fd14e443c",
   "metadata": {},
   "source": [
    "You are given a positive integer $c$ and a list `L` of non-negative integers in the range $[0, c-1]$. \n",
    "\n",
    "For example,\n",
    "```python\n",
    "c = 4\n",
    "L = [0, 1, 3, 0, 0, 1, 2, 0, 2, 3]\n",
    "```\n",
    "\n",
    "Your task is to write a function `min_all` that given the list and the number `c` returns the minimum number of consecutive elements you must take from the list to get _at least_ one of each numbers.\n",
    "\n",
    "The list `L` is guaranteed to contain at least one element equal to each number in the range (so the return value is at most the length of the list).\n",
    "\n",
    "In the example above, `min_all` returns 5. In fact, to get a minimum length subsequence that contains at least one 0, at least one 1, at least one 2 and at least one 3, you need to take `[3,0,0,1,2]` or `[1,2,0,2,3]`. No shorter contiguous subsequence exists.\n",
    "\n",
    "Another example:\n",
    "```\n",
    "c = 3\n",
    "L = [1, 1, 0, 0, 2, 2, 2, 1, 1, 2, 2]\n",
    "```\n",
    "`min_all` returns 4. The subsequence `[1,0,0,2]` contains at least one 0, at least one 1 and at least one 2, and among all subsequences with this property is the shortest one.\n",
    "\n",
    "The declaration of `min_all` is already written in the file `work.py`. You need to write the body of the function **and nothing else**. Moreover, the function must not have any side-effect (for example, it must not print anything)\n",
    "\n",
    "To test the correctness of your work, you can run the cell below which imports `work.py` and does some tests on the function. If the tests are passed, you will see a confirmation message on the output cell.\n"
   ]
  },
  {
   "cell_type": "code",
   "execution_count": 14,
   "id": "20e0bf87-577c-4aa5-85b8-2ab8107dd0d6",
   "metadata": {},
   "outputs": [
    {
     "name": "stdout",
     "output_type": "stream",
     "text": [
      "\n",
      "All tests passed.\n"
     ]
    }
   ],
   "source": [
    "import sys\n",
    "try:\n",
    "    del sys.modules['work']\n",
    "except Exception as e:\n",
    "    pass\n",
    "\n",
    "import work\n",
    "\n",
    "C = 4\n",
    "L = [0, 1, 3, 0, 0, 1, 2, 0, 2, 3]\n",
    "assert work.min_all(L, C) == 5\n",
    "\n",
    "C = 3\n",
    "L = [1, 1, 0, 0, 2, 2, 1, 1, 1, 2, 2]\n",
    "assert work.min_all(L, C) == 4\n",
    "\n",
    "C = 6\n",
    "L = [3, 2, 0, 1, 3, 1, 2, 4, 4, 1, 2, 5]\n",
    "assert work.min_all(L, C) == 10\n",
    "\n",
    "C = 6\n",
    "L = [3, 2, 0, 1, 4, 4, 1, 2, 5]\n",
    "assert work.min_all(L, C) == 9\n",
    "\n",
    "print(\"\\nAll tests passed.\")"
   ]
  },
  {
   "cell_type": "code",
   "execution_count": 15,
   "id": "4a034e97",
   "metadata": {},
   "outputs": [
    {
     "data": {
      "text/plain": [
       "range(0, 8)"
      ]
     },
     "execution_count": 15,
     "metadata": {},
     "output_type": "execute_result"
    }
   ],
   "source": [
    "range(len(L)-1)"
   ]
  },
  {
   "cell_type": "markdown",
   "id": "7368e32b-874b-4e4d-94e7-836931f18c96",
   "metadata": {},
   "source": [
    "## Part 2. Mapping Numbers to Words.\n",
    "\n",
    "Below is the layout of a telephone keypad.\n",
    "\n",
    "![Telephone-keypad.png](Telephone-keypad.png)\n",
    "\n",
    "A group of letter is associated to the digits from 2 to 9. \n",
    "\n",
    "In this way, we can build a one-to-many correspondence between numbers and strings. \n",
    "\n",
    "For example, 2622664 corresponds to ANBCMNH, BOCCONI, and many other 7-letter strings.\n",
    "\n",
    "Your task is to write a function `strings_from_number(n)` that returns a list of strings that correspond to the number $n$.\n",
    "\n",
    "For example, if $n=23\", the function should return `[\"ad\",\"ae\",\"af\",\"bd\",\"be\",\"bf\",\"cd\",\"ce\",\"cf\"]`. The order of the strings does not matter.\n",
    "\n",
    "To test the correctness of your work, you can run the cell below which imports `work.py` and does some tests on the function. If the tests are passed, you will see a confirmation message on the terminal window.\n"
   ]
  },
  {
   "cell_type": "code",
   "execution_count": 16,
   "id": "10ab6789-050f-43aa-9d29-2a664180491a",
   "metadata": {},
   "outputs": [
    {
     "name": "stdout",
     "output_type": "stream",
     "text": [
      "\n",
      "All tests passed.\n"
     ]
    }
   ],
   "source": [
    "import sys\n",
    "try:\n",
    "    del sys.modules['work']\n",
    "except Exception as e:\n",
    "    pass\n",
    "\n",
    "import work\n",
    "\n",
    "\n",
    "s1: list[str] = work.strings_from_number(2622664)\n",
    "assert 'bocconi' in s1\n",
    "assert len(s1) == 2187\n",
    "s1: list[str] = work.strings_from_number(789)\n",
    "assert 'rux' in s1\n",
    "assert len(s1) == 48\n",
    "assert 'pvx' in s1\n",
    "assert 'ppp' not in s1\n",
    "s1: list[str] = work.strings_from_number(77)\n",
    "assert set(s1) == {'pp', 'pq', 'pr', 'ps', 'qp', 'qq', 'qr', 'qs', 'rp', 'rq', 'rr', 'rs', 'sp', 'sq', 'sr', 'ss'}\n",
    "\n",
    "print(\"\\nAll tests passed.\")"
   ]
  },
  {
   "cell_type": "markdown",
   "id": "d7b87be6-eabe-4022-abf5-527cfecd2adb",
   "metadata": {},
   "source": [
    "## Part 3. Subsequence.\n",
    "\n",
    "Given two strings `s1` and `s2`, we say that `s1` is a subsequence of `s2` if all the letters of `s1` appear in `s2` **in the same relative order in which they appear in `s1`**.\n",
    "\n",
    "Examples:\n",
    "- `car` is a subsequence of `chart`.\n",
    "- `abc` is a subsequence of `dabddbac`\n",
    "- `steal` is not a subsequence of `least` because the ordering of letters is wrong\n",
    "- `x` is not a subsequence of `abc` because `x` is not contained in `abc`.\n",
    "\n",
    "The empty string is a subsequence of every string.\n",
    "\n",
    "Your task is to write a function `subsequence(s1,s2)` which takes as input two strings and returns `True` if `s1` is a subsequence of `s2`, and `False` otherwise. The solution must be recursive and you cannot use any loop (e.g., for, while). \n",
    "\n",
    "The declaration of `subsequence(s1,s2)` is already written in the file `work.py`. You need to write the body of the function **and nothing else**. Moreover, the function must not have any side-effect (for example, it must not print anything)\n",
    "\n",
    "To test the correctness of your work, you can run the cell below which imports `work.py` and does some tests on the function. If the tests are passed, you will see a confirmation message on the output cell.\n",
    "\n",
    "Note: strings are case-sensitive, so, for example, `AGREE` is not a subsequence of `agreeable`."
   ]
  },
  {
   "cell_type": "code",
   "execution_count": 17,
   "id": "0feb0187-50ac-43b9-afa4-4f2c0482adfe",
   "metadata": {},
   "outputs": [
    {
     "name": "stdout",
     "output_type": "stream",
     "text": [
      "\n",
      "All tests passed.\n"
     ]
    }
   ],
   "source": [
    "import sys\n",
    "try:\n",
    "    del sys.modules['work']\n",
    "except Exception as e:\n",
    "    pass\n",
    "import work\n",
    "\n",
    "\n",
    "s1 = 'car'\n",
    "s2 = 'cast'\n",
    "assert not work.subsequence(s1, s2)\n",
    "s1 = ''\n",
    "s2 = 'cast'\n",
    "assert work.subsequence(s1, s2)\n",
    "s1 = 'mean'\n",
    "s2 = 'management'\n",
    "assert not work.subsequence(s1, s2)\n",
    "s1 = 'age'\n",
    "s2 = 'management'\n",
    "assert work.subsequence(s1, s2)\n",
    "s1 = 'ape'\n",
    "s2 = 'transparent'\n",
    "assert work.subsequence(s1, s2)\n",
    "\n",
    "print(\"\\nAll tests passed.\")"
   ]
  }
 ],
 "metadata": {
  "kernelspec": {
   "display_name": "Python 3 (ipykernel)",
   "language": "python",
   "name": "python3"
  },
  "language_info": {
   "codemirror_mode": {
    "name": "ipython",
    "version": 3
   },
   "file_extension": ".py",
   "mimetype": "text/x-python",
   "name": "python",
   "nbconvert_exporter": "python",
   "pygments_lexer": "ipython3",
   "version": "3.12.4"
  }
 },
 "nbformat": 4,
 "nbformat_minor": 5
}
